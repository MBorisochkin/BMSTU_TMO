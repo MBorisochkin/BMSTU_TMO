{
 "cells": [
  {
   "cell_type": "markdown",
   "metadata": {
    "pycharm": {
     "name": "#%% md\n"
    }
   },
   "source": [
    "\n",
    "# Лаборатоная работа №2\n",
    "\n",
    "## Обработка пропусков в данных, кодирование категориальных признаков, масштабирование данных.\n",
    "\n",
    "##### Выполнил: Борисочкин М. И., РТ5-61Б"
   ]
  },
  {
   "cell_type": "markdown",
   "metadata": {},
   "source": [
    "\n",
    "### Импорт библиотек\n"
   ]
  },
  {
   "cell_type": "code",
   "execution_count": 1,
   "metadata": {
    "pycharm": {
     "name": "#%%\n"
    }
   },
   "outputs": [],
   "source": [
    "import numpy as np\n",
    "import pandas as pd\n",
    "import matplotlib.pyplot as plt\n",
    "import seaborn as sns\n",
    "\n",
    "%matplotlib inline\n",
    "sns.set(style=\"ticks\")"
   ]
  },
  {
   "cell_type": "markdown",
   "metadata": {},
   "source": [
    "\n",
    "### Загрузка и первичный анализ данных\n",
    "\n",
    "В данной лабораторной работе будем использовать набор данных рынка жилья в Мельбурне с ресурса kaggle ([Melbourne Housing Market](https://www.kaggle.com/anthonypino/melbourne-housing-market?select=Melbourne_housing_FULL.csv))"
   ]
  },
  {
   "cell_type": "code",
   "execution_count": 2,
   "metadata": {
    "pycharm": {
     "name": "#%%\n"
    }
   },
   "outputs": [],
   "source": [
    "# Загрузка датасета с большим числом столбцов\n",
    "data = pd.read_csv('data/Melbourne_housing_FULL.csv', sep=',')"
   ]
  },
  {
   "cell_type": "code",
   "execution_count": 3,
   "metadata": {
    "pycharm": {
     "name": "#%%\n"
    }
   },
   "outputs": [
    {
     "data": {
      "text/plain": "(34857, 21)"
     },
     "execution_count": 3,
     "metadata": {},
     "output_type": "execute_result"
    }
   ],
   "source": [
    "# Размер набора данных\n",
    "data.shape"
   ]
  },
  {
   "cell_type": "code",
   "execution_count": 4,
   "metadata": {
    "pycharm": {
     "name": "#%%\n"
    }
   },
   "outputs": [
    {
     "data": {
      "text/plain": "Suburb            object\nAddress           object\nRooms              int64\nType              object\nPrice            float64\nMethod            object\nSellerG           object\nDate              object\nDistance         float64\nPostcode         float64\nBedroom2         float64\nBathroom         float64\nCar              float64\nLandsize         float64\nBuildingArea     float64\nYearBuilt        float64\nCouncilArea       object\nLattitude        float64\nLongtitude       float64\nRegionname        object\nPropertycount    float64\ndtype: object"
     },
     "execution_count": 4,
     "metadata": {},
     "output_type": "execute_result"
    }
   ],
   "source": [
    "# Типы столбцов\n",
    "data.dtypes"
   ]
  },
  {
   "cell_type": "code",
   "execution_count": 5,
   "metadata": {
    "pycharm": {
     "name": "#%%\n"
    }
   },
   "outputs": [
    {
     "data": {
      "text/plain": "Suburb               0\nAddress              0\nRooms                0\nType                 0\nPrice             7610\nMethod               0\nSellerG              0\nDate                 0\nDistance             1\nPostcode             1\nBedroom2          8217\nBathroom          8226\nCar               8728\nLandsize         11810\nBuildingArea     21115\nYearBuilt        19306\nCouncilArea          3\nLattitude         7976\nLongtitude        7976\nRegionname           3\nPropertycount        3\ndtype: int64"
     },
     "execution_count": 5,
     "metadata": {},
     "output_type": "execute_result"
    }
   ],
   "source": [
    "# Проверка наличия пустых значений\n",
    "data.isnull().sum()"
   ]
  },
  {
   "cell_type": "code",
   "execution_count": 6,
   "metadata": {
    "pycharm": {
     "name": "#%%\n"
    }
   },
   "outputs": [
    {
     "data": {
      "text/plain": "       Suburb             Address  Rooms Type      Price Method SellerG  \\\n0  Abbotsford       68 Studley St      2    h        NaN     SS  Jellis   \n1  Abbotsford        85 Turner St      2    h  1480000.0      S  Biggin   \n2  Abbotsford     25 Bloomburg St      2    h  1035000.0      S  Biggin   \n3  Abbotsford  18/659 Victoria St      3    u        NaN     VB  Rounds   \n4  Abbotsford        5 Charles St      3    h  1465000.0     SP  Biggin   \n\n        Date  Distance  Postcode  ...  Bathroom  Car  Landsize  BuildingArea  \\\n0  3/09/2016       2.5    3067.0  ...       1.0  1.0     126.0           NaN   \n1  3/12/2016       2.5    3067.0  ...       1.0  1.0     202.0           NaN   \n2  4/02/2016       2.5    3067.0  ...       1.0  0.0     156.0          79.0   \n3  4/02/2016       2.5    3067.0  ...       2.0  1.0       0.0           NaN   \n4  4/03/2017       2.5    3067.0  ...       2.0  0.0     134.0         150.0   \n\n   YearBuilt         CouncilArea Lattitude  Longtitude             Regionname  \\\n0        NaN  Yarra City Council  -37.8014    144.9958  Northern Metropolitan   \n1        NaN  Yarra City Council  -37.7996    144.9984  Northern Metropolitan   \n2     1900.0  Yarra City Council  -37.8079    144.9934  Northern Metropolitan   \n3        NaN  Yarra City Council  -37.8114    145.0116  Northern Metropolitan   \n4     1900.0  Yarra City Council  -37.8093    144.9944  Northern Metropolitan   \n\n  Propertycount  \n0        4019.0  \n1        4019.0  \n2        4019.0  \n3        4019.0  \n4        4019.0  \n\n[5 rows x 21 columns]",
      "text/html": "<div>\n<style scoped>\n    .dataframe tbody tr th:only-of-type {\n        vertical-align: middle;\n    }\n\n    .dataframe tbody tr th {\n        vertical-align: top;\n    }\n\n    .dataframe thead th {\n        text-align: right;\n    }\n</style>\n<table border=\"1\" class=\"dataframe\">\n  <thead>\n    <tr style=\"text-align: right;\">\n      <th></th>\n      <th>Suburb</th>\n      <th>Address</th>\n      <th>Rooms</th>\n      <th>Type</th>\n      <th>Price</th>\n      <th>Method</th>\n      <th>SellerG</th>\n      <th>Date</th>\n      <th>Distance</th>\n      <th>Postcode</th>\n      <th>...</th>\n      <th>Bathroom</th>\n      <th>Car</th>\n      <th>Landsize</th>\n      <th>BuildingArea</th>\n      <th>YearBuilt</th>\n      <th>CouncilArea</th>\n      <th>Lattitude</th>\n      <th>Longtitude</th>\n      <th>Regionname</th>\n      <th>Propertycount</th>\n    </tr>\n  </thead>\n  <tbody>\n    <tr>\n      <th>0</th>\n      <td>Abbotsford</td>\n      <td>68 Studley St</td>\n      <td>2</td>\n      <td>h</td>\n      <td>NaN</td>\n      <td>SS</td>\n      <td>Jellis</td>\n      <td>3/09/2016</td>\n      <td>2.5</td>\n      <td>3067.0</td>\n      <td>...</td>\n      <td>1.0</td>\n      <td>1.0</td>\n      <td>126.0</td>\n      <td>NaN</td>\n      <td>NaN</td>\n      <td>Yarra City Council</td>\n      <td>-37.8014</td>\n      <td>144.9958</td>\n      <td>Northern Metropolitan</td>\n      <td>4019.0</td>\n    </tr>\n    <tr>\n      <th>1</th>\n      <td>Abbotsford</td>\n      <td>85 Turner St</td>\n      <td>2</td>\n      <td>h</td>\n      <td>1480000.0</td>\n      <td>S</td>\n      <td>Biggin</td>\n      <td>3/12/2016</td>\n      <td>2.5</td>\n      <td>3067.0</td>\n      <td>...</td>\n      <td>1.0</td>\n      <td>1.0</td>\n      <td>202.0</td>\n      <td>NaN</td>\n      <td>NaN</td>\n      <td>Yarra City Council</td>\n      <td>-37.7996</td>\n      <td>144.9984</td>\n      <td>Northern Metropolitan</td>\n      <td>4019.0</td>\n    </tr>\n    <tr>\n      <th>2</th>\n      <td>Abbotsford</td>\n      <td>25 Bloomburg St</td>\n      <td>2</td>\n      <td>h</td>\n      <td>1035000.0</td>\n      <td>S</td>\n      <td>Biggin</td>\n      <td>4/02/2016</td>\n      <td>2.5</td>\n      <td>3067.0</td>\n      <td>...</td>\n      <td>1.0</td>\n      <td>0.0</td>\n      <td>156.0</td>\n      <td>79.0</td>\n      <td>1900.0</td>\n      <td>Yarra City Council</td>\n      <td>-37.8079</td>\n      <td>144.9934</td>\n      <td>Northern Metropolitan</td>\n      <td>4019.0</td>\n    </tr>\n    <tr>\n      <th>3</th>\n      <td>Abbotsford</td>\n      <td>18/659 Victoria St</td>\n      <td>3</td>\n      <td>u</td>\n      <td>NaN</td>\n      <td>VB</td>\n      <td>Rounds</td>\n      <td>4/02/2016</td>\n      <td>2.5</td>\n      <td>3067.0</td>\n      <td>...</td>\n      <td>2.0</td>\n      <td>1.0</td>\n      <td>0.0</td>\n      <td>NaN</td>\n      <td>NaN</td>\n      <td>Yarra City Council</td>\n      <td>-37.8114</td>\n      <td>145.0116</td>\n      <td>Northern Metropolitan</td>\n      <td>4019.0</td>\n    </tr>\n    <tr>\n      <th>4</th>\n      <td>Abbotsford</td>\n      <td>5 Charles St</td>\n      <td>3</td>\n      <td>h</td>\n      <td>1465000.0</td>\n      <td>SP</td>\n      <td>Biggin</td>\n      <td>4/03/2017</td>\n      <td>2.5</td>\n      <td>3067.0</td>\n      <td>...</td>\n      <td>2.0</td>\n      <td>0.0</td>\n      <td>134.0</td>\n      <td>150.0</td>\n      <td>1900.0</td>\n      <td>Yarra City Council</td>\n      <td>-37.8093</td>\n      <td>144.9944</td>\n      <td>Northern Metropolitan</td>\n      <td>4019.0</td>\n    </tr>\n  </tbody>\n</table>\n<p>5 rows × 21 columns</p>\n</div>"
     },
     "execution_count": 6,
     "metadata": {},
     "output_type": "execute_result"
    }
   ],
   "source": [
    "# Первые 5 строк датасета\n",
    "data.head()"
   ]
  },
  {
   "cell_type": "code",
   "execution_count": 7,
   "metadata": {
    "pycharm": {
     "name": "#%%\n"
    }
   },
   "outputs": [
    {
     "name": "stdout",
     "output_type": "stream",
     "text": [
      "Всего строк: 34857 \n",
      "Всего столбцов: 21\n"
     ]
    }
   ],
   "source": [
    "# Всего строк и столбцов\n",
    "total_rows, total_columns = data.shape[0], data.shape[1]\n",
    "print('Всего строк: {} \\nВсего столбцов: {}'.format(total_rows, total_columns))"
   ]
  },
  {
   "cell_type": "markdown",
   "metadata": {},
   "source": [
    "\n",
    "### Обработка пропусков в данных\n",
    "\n",
    "#### Удаление строк и столбцов\n",
    "\n",
    "Удалим строки с пустыми значениями в следующих атрибутах: Distance, Postcode, CouncilArea, Regionname, Propertycount, так как таких строк очень мало относительно всего набора данных.\n",
    "Также удалим столбцы Landsize, BuildingArea и YearBuilt из-за огромного числа пропусков (Landsize > 30%, BuildingArea и YearBuilt > 50%). Заодно переименуем столбец Bedroom2 в просто Bedroom."
   ]
  },
  {
   "cell_type": "code",
   "execution_count": 8,
   "metadata": {
    "pycharm": {
     "name": "#%%\n"
    }
   },
   "outputs": [
    {
     "data": {
      "text/plain": "Suburb              0\nAddress             0\nRooms               0\nType                0\nPrice            7610\nMethod              0\nSellerG             0\nDate                0\nDistance            0\nPostcode            0\nBedroom          8214\nBathroom         8223\nCar              8725\nCouncilArea         0\nLattitude        7973\nLongtitude       7973\nRegionname          0\nPropertycount       0\ndtype: int64"
     },
     "execution_count": 8,
     "metadata": {},
     "output_type": "execute_result"
    }
   ],
   "source": [
    "# Удаление строк\n",
    "data_with_deleted_rows = data.dropna(subset=['Distance', 'Postcode', 'CouncilArea', 'Regionname', 'Propertycount'])\n",
    "\n",
    "# Удаление столбцов\n",
    "data_with_deleted : pd.DataFrame = data_with_deleted_rows.drop(columns=['Landsize','BuildingArea', 'YearBuilt'])\n",
    "\n",
    "# Переименование столбца Bedroom2\n",
    "data_with_deleted = data_with_deleted.rename(columns={'Bedroom2': 'Bedroom'})\n",
    "\n",
    "# Проверка пустых значений\n",
    "data_with_deleted.isnull().sum()"
   ]
  },
  {
   "cell_type": "markdown",
   "metadata": {
    "pycharm": {
     "name": "#%% md\n"
    }
   },
   "source": [
    "\n",
    "#### Заполнение пропусков"
   ]
  },
  {
   "cell_type": "code",
   "execution_count": 9,
   "metadata": {
    "pycharm": {
     "name": "#%%\n"
    }
   },
   "outputs": [
    {
     "name": "stdout",
     "output_type": "stream",
     "text": [
      "Столбец: Price. Тип данных: float64. Кол-во пустых значений: 7610, 21.83%\n",
      "Столбец: Bedroom. Тип данных: float64. Кол-во пустых значений: 8214, 23.57%\n",
      "Столбец: Bathroom. Тип данных: float64. Кол-во пустых значений: 8223, 23.59%\n",
      "Столбец: Car. Тип данных: float64. Кол-во пустых значений: 8725, 25.03%\n",
      "Столбец: Lattitude. Тип данных: float64. Кол-во пустых значений: 7973, 22.88%\n",
      "Столбец: Longtitude. Тип данных: float64. Кол-во пустых значений: 7973, 22.88%\n"
     ]
    }
   ],
   "source": [
    "# Числовые колонки с пропущенными значениями\n",
    "num_cols = []\n",
    "for column in data_with_deleted.columns:\n",
    "    temp_null_count = data_with_deleted[data_with_deleted[column].isnull()].shape[0]\n",
    "    dt = str(data_with_deleted[column].dtype)\n",
    "\n",
    "    if temp_null_count > 0 and (dt == 'float64' or dt == 'int64'):\n",
    "        num_cols.append(column)\n",
    "        temp_percent = round((temp_null_count/ data_with_deleted.shape[0]) * 100.0, 2)\n",
    "        print('Столбец: {}. Тип данных: {}. Кол-во пустых значений: {}, {}%'.format(column, dt, temp_null_count, temp_percent))"
   ]
  },
  {
   "cell_type": "markdown",
   "metadata": {},
   "source": [
    "Построим гистограммы для данных признаков:"
   ]
  },
  {
   "cell_type": "code",
   "execution_count": 10,
   "metadata": {
    "pycharm": {
     "name": "#%%\n"
    }
   },
   "outputs": [
    {
     "data": {
      "text/plain": "<Figure size 432x288 with 1 Axes>",
      "image/png": "[encoded data removed]"
     },
     "metadata": {},
     "output_type": "display_data"
    },
    {
     "data": {
      "text/plain": "<Figure size 432x288 with 1 Axes>",
      "image/png": "[encoded data removed]"
     },
     "metadata": {},
     "output_type": "display_data"
    },
    {
     "data": {
      "text/plain": "<Figure size 432x288 with 1 Axes>",
      "image/png": "[encoded data removed]"
     },
     "metadata": {},
     "output_type": "display_data"
    },
    {
     "data": {
      "text/plain": "<Figure size 432x288 with 1 Axes>",
      "image/png": "[encoded data removed]"
     },
     "metadata": {},
     "output_type": "display_data"
    },
    {
     "data": {
      "text/plain": "<Figure size 432x288 with 1 Axes>",
      "image/png": "[encoded data removed]"
     },
     "metadata": {},
     "output_type": "display_data"
    },
    {
     "data": {
      "text/plain": "<Figure size 432x288 with 1 Axes>",
      "image/png": "[encoded data removed]"
     },
     "metadata": {},
     "output_type": "display_data"
    }
   ],
   "source": [
    "data_num = data_with_deleted[num_cols]\n",
    "\n",
    "# Гистограмма по признакам\n",
    "for column in data_num:\n",
    "    if column == 'Bedroom' or column == 'Bathroom' or column == 'Car':\n",
    "        sns.histplot(data_with_deleted[column], discrete=True)\n",
    "    else:\n",
    "        sns.histplot(data_with_deleted[column], bins=75)\n",
    "    sns.despine()\n",
    "    plt.show()"
   ]
  },
  {
   "cell_type": "markdown",
   "metadata": {},
   "source": [
    "Импортируем средства импьютации из библиотеки scikit-learn:"
   ]
  },
  {
   "cell_type": "code",
   "execution_count": 11,
   "metadata": {
    "pycharm": {
     "name": "#%%\n"
    }
   },
   "outputs": [],
   "source": [
    "from sklearn.impute import MissingIndicator, SimpleImputer"
   ]
  },
  {
   "cell_type": "code",
   "execution_count": 12,
   "metadata": {
    "pycharm": {
     "name": "#%%\n"
    }
   },
   "outputs": [
    {
     "data": {
      "text/plain": "array([[ True],\n       [False],\n       [False],\n       ...,\n       [False],\n       [False],\n       [False]])"
     },
     "execution_count": 12,
     "metadata": {},
     "output_type": "execute_result"
    }
   ],
   "source": [
    "# Фильтр для проверки заполнения пустых значений\n",
    "miss_indicator = MissingIndicator()\n",
    "mask_only_missing_values = miss_indicator.fit_transform(data_with_deleted[['Price']])\n",
    "mask_only_missing_values"
   ]
  },
  {
   "cell_type": "code",
   "execution_count": 13,
   "metadata": {
    "pycharm": {
     "name": "#%%\n"
    }
   },
   "outputs": [],
   "source": [
    "def impute_dataframe(df, col, strategy_name) -> pd.DataFrame:\n",
    "    \"\"\"\n",
    "    Функия для заполнения пропусков в столбце датафрейма\n",
    "\n",
    "    :param df: Датафрейм\n",
    "    :param col: Столбец, в которой надо заполнить пропуски\n",
    "    :param strategy_name: Стратегия импьютации\n",
    "    :return: Датафрейм с заполнненой колонкой\n",
    "    \"\"\"\n",
    "    imp = SimpleImputer(strategy=strategy_name)\n",
    "\n",
    "    data_imputed = imp.fit_transform(df[[col]])\n",
    "    df[[col]] = data_imputed\n",
    "\n",
    "    return df"
   ]
  },
  {
   "cell_type": "markdown",
   "metadata": {},
   "source": [
    "Заполним пропуски в стобцах Price, Lattitude, Longtitude модой, а пропуски в стобцах Bedroom, Bathroom и Cars — медианой:"
   ]
  },
  {
   "cell_type": "code",
   "execution_count": 14,
   "metadata": {
    "pycharm": {
     "name": "#%%\n"
    }
   },
   "outputs": [
    {
     "data": {
      "text/plain": "Suburb           0\nAddress          0\nRooms            0\nType             0\nPrice            0\nMethod           0\nSellerG          0\nDate             0\nDistance         0\nPostcode         0\nBedroom          0\nBathroom         0\nCar              0\nCouncilArea      0\nLattitude        0\nLongtitude       0\nRegionname       0\nPropertycount    0\ndtype: int64"
     },
     "execution_count": 14,
     "metadata": {},
     "output_type": "execute_result"
    }
   ],
   "source": [
    "# Заполнение модой\n",
    "data_completed = impute_dataframe(data_with_deleted, 'Price', 'most_frequent')\n",
    "data_completed = impute_dataframe(data_completed, 'Lattitude', 'most_frequent')\n",
    "data_completed = impute_dataframe(data_completed, 'Longtitude', 'most_frequent')\n",
    "\n",
    "# Заполнение медианой\n",
    "data_completed = impute_dataframe(data_completed, 'Bedroom', 'median')\n",
    "data_completed = impute_dataframe(data_completed, 'Bathroom', 'median')\n",
    "data_completed = impute_dataframe(data_completed, 'Car', 'median')\n",
    "\n",
    "data_completed.isnull().sum()"
   ]
  },
  {
   "cell_type": "markdown",
   "metadata": {},
   "source": [
    "Как было видно из анализа данных, столбцы Bedroom, Bathroom и Car имеют тип float64, хотя должны иметь тип int64, так отвечают за количество комнат/автомобилей. Аналогичная ситуация со столбцами Postcode и Propertycount. Также приведём поле Date к соответствующему виду:"
   ]
  },
  {
   "cell_type": "code",
   "execution_count": 15,
   "metadata": {
    "pycharm": {
     "name": "#%%\n"
    }
   },
   "outputs": [
    {
     "data": {
      "text/plain": "        Suburb              Address  Rooms Type      Price Method  SellerG  \\\n0   Abbotsford        68 Studley St      2    h   600000.0     SS   Jellis   \n1   Abbotsford         85 Turner St      2    h  1480000.0      S   Biggin   \n2   Abbotsford      25 Bloomburg St      2    h  1035000.0      S   Biggin   \n3   Abbotsford   18/659 Victoria St      3    u   600000.0     VB   Rounds   \n4   Abbotsford         5 Charles St      3    h  1465000.0     SP   Biggin   \n5   Abbotsford     40 Federation La      3    h   850000.0     PI   Biggin   \n6   Abbotsford          55a Park St      4    h  1600000.0     VB   Nelson   \n7   Abbotsford         16 Maugie St      4    h   600000.0     SN   Nelson   \n8   Abbotsford         53 Turner St      2    h   600000.0      S   Biggin   \n9   Abbotsford         99 Turner St      2    h   600000.0      S  Collins   \n10  Abbotsford       129 Charles St      2    h   941000.0      S   Jellis   \n11  Abbotsford         124 Yarra St      3    h  1876000.0      S   Nelson   \n12  Abbotsford  121/56 Nicholson St      2    u   600000.0     PI   Biggin   \n13  Abbotsford        17 Raphael St      4    h   600000.0      W   Biggin   \n14  Abbotsford        98 Charles St      2    h  1636000.0      S   Nelson   \n15  Abbotsford     217 Langridge St      3    h  1000000.0      S   Jellis   \n16  Abbotsford      18a Mollison St      2    t   745000.0      S   Jellis   \n17  Abbotsford   6/241 Nicholson St      1    u   300000.0      S   Biggin   \n18  Abbotsford        10 Valiant St      2    h  1097000.0      S   Biggin   \n19  Abbotsford  403/609 Victoria St      2    u   542000.0      S   Dingle   \n\n         Date  Distance  Postcode  Bedroom  Bathroom  Car         CouncilArea  \\\n0  2016-09-03       2.5      3067        2         1    1  Yarra City Council   \n1  2016-12-03       2.5      3067        2         1    1  Yarra City Council   \n2  2016-02-04       2.5      3067        2         1    0  Yarra City Council   \n3  2016-02-04       2.5      3067        3         2    1  Yarra City Council   \n4  2017-03-04       2.5      3067        3         2    0  Yarra City Council   \n5  2017-03-04       2.5      3067        3         2    1  Yarra City Council   \n6  2016-06-04       2.5      3067        3         1    2  Yarra City Council   \n7  2016-08-06       2.5      3067        3         2    2  Yarra City Council   \n8  2016-08-06       2.5      3067        4         1    2  Yarra City Council   \n9  2016-08-06       2.5      3067        3         2    1  Yarra City Council   \n10 2016-05-07       2.5      3067        2         1    0  Yarra City Council   \n11 2016-05-07       2.5      3067        4         2    0  Yarra City Council   \n12 2016-11-07       2.5      3067        2         2    1  Yarra City Council   \n13 2016-11-07       2.5      3067        6         2    0  Yarra City Council   \n14 2016-10-08       2.5      3067        2         1    2  Yarra City Council   \n15 2016-10-08       2.5      3067        3         2    2  Yarra City Council   \n16 2016-10-08       2.5      3067        3         2    2  Yarra City Council   \n17 2016-10-08       2.5      3067        1         1    1  Yarra City Council   \n18 2016-10-08       2.5      3067        3         1    2  Yarra City Council   \n19 2016-10-08       2.5      3067        3         2    2  Yarra City Council   \n\n    Lattitude  Longtitude             Regionname  Propertycount  \n0    -37.8014    144.9958  Northern Metropolitan           4019  \n1    -37.7996    144.9984  Northern Metropolitan           4019  \n2    -37.8079    144.9934  Northern Metropolitan           4019  \n3    -37.8114    145.0116  Northern Metropolitan           4019  \n4    -37.8093    144.9944  Northern Metropolitan           4019  \n5    -37.7969    144.9969  Northern Metropolitan           4019  \n6    -37.8072    144.9941  Northern Metropolitan           4019  \n7    -37.7965    144.9965  Northern Metropolitan           4019  \n8    -37.7995    144.9974  Northern Metropolitan           4019  \n9    -37.7996    144.9989  Northern Metropolitan           4019  \n10   -37.8041    144.9953  Northern Metropolitan           4019  \n11   -37.8024    144.9993  Northern Metropolitan           4019  \n12   -37.8078    144.9965  Northern Metropolitan           4019  \n13   -37.8066    144.9936  Northern Metropolitan           4019  \n14   -37.8060    144.9954  Northern Metropolitan           4019  \n15   -37.8361    144.9966  Northern Metropolitan           4019  \n16   -37.8361    144.9966  Northern Metropolitan           4019  \n17   -37.8008    144.9973  Northern Metropolitan           4019  \n18   -37.8010    144.9989  Northern Metropolitan           4019  \n19   -37.8361    144.9966  Northern Metropolitan           4019  ",
      "text/html": "<div>\n<style scoped>\n    .dataframe tbody tr th:only-of-type {\n        vertical-align: middle;\n    }\n\n    .dataframe tbody tr th {\n        vertical-align: top;\n    }\n\n    .dataframe thead th {\n        text-align: right;\n    }\n</style>\n<table border=\"1\" class=\"dataframe\">\n  <thead>\n    <tr style=\"text-align: right;\">\n      <th></th>\n      <th>Suburb</th>\n      <th>Address</th>\n      <th>Rooms</th>\n      <th>Type</th>\n      <th>Price</th>\n      <th>Method</th>\n      <th>SellerG</th>\n      <th>Date</th>\n      <th>Distance</th>\n      <th>Postcode</th>\n      <th>Bedroom</th>\n      <th>Bathroom</th>\n      <th>Car</th>\n      <th>CouncilArea</th>\n      <th>Lattitude</th>\n      <th>Longtitude</th>\n      <th>Regionname</th>\n      <th>Propertycount</th>\n    </tr>\n  </thead>\n  <tbody>\n    <tr>\n      <th>0</th>\n      <td>Abbotsford</td>\n      <td>68 Studley St</td>\n      <td>2</td>\n      <td>h</td>\n      <td>600000.0</td>\n      <td>SS</td>\n      <td>Jellis</td>\n      <td>2016-09-03</td>\n      <td>2.5</td>\n      <td>3067</td>\n      <td>2</td>\n      <td>1</td>\n      <td>1</td>\n      <td>Yarra City Council</td>\n      <td>-37.8014</td>\n      <td>144.9958</td>\n      <td>Northern Metropolitan</td>\n      <td>4019</td>\n    </tr>\n    <tr>\n      <th>1</th>\n      <td>Abbotsford</td>\n      <td>85 Turner St</td>\n      <td>2</td>\n      <td>h</td>\n      <td>1480000.0</td>\n      <td>S</td>\n      <td>Biggin</td>\n      <td>2016-12-03</td>\n      <td>2.5</td>\n      <td>3067</td>\n      <td>2</td>\n      <td>1</td>\n      <td>1</td>\n      <td>Yarra City Council</td>\n      <td>-37.7996</td>\n      <td>144.9984</td>\n      <td>Northern Metropolitan</td>\n      <td>4019</td>\n    </tr>\n    <tr>\n      <th>2</th>\n      <td>Abbotsford</td>\n      <td>25 Bloomburg St</td>\n      <td>2</td>\n      <td>h</td>\n      <td>1035000.0</td>\n      <td>S</td>\n      <td>Biggin</td>\n      <td>2016-02-04</td>\n      <td>2.5</td>\n      <td>3067</td>\n      <td>2</td>\n      <td>1</td>\n      <td>0</td>\n      <td>Yarra City Council</td>\n      <td>-37.8079</td>\n      <td>144.9934</td>\n      <td>Northern Metropolitan</td>\n      <td>4019</td>\n    </tr>\n    <tr>\n      <th>3</th>\n      <td>Abbotsford</td>\n      <td>18/659 Victoria St</td>\n      <td>3</td>\n      <td>u</td>\n      <td>600000.0</td>\n      <td>VB</td>\n      <td>Rounds</td>\n      <td>2016-02-04</td>\n      <td>2.5</td>\n      <td>3067</td>\n      <td>3</td>\n      <td>2</td>\n      <td>1</td>\n      <td>Yarra City Council</td>\n      <td>-37.8114</td>\n      <td>145.0116</td>\n      <td>Northern Metropolitan</td>\n      <td>4019</td>\n    </tr>\n    <tr>\n      <th>4</th>\n      <td>Abbotsford</td>\n      <td>5 Charles St</td>\n      <td>3</td>\n      <td>h</td>\n      <td>1465000.0</td>\n      <td>SP</td>\n      <td>Biggin</td>\n      <td>2017-03-04</td>\n      <td>2.5</td>\n      <td>3067</td>\n      <td>3</td>\n      <td>2</td>\n      <td>0</td>\n      <td>Yarra City Council</td>\n      <td>-37.8093</td>\n      <td>144.9944</td>\n      <td>Northern Metropolitan</td>\n      <td>4019</td>\n    </tr>\n    <tr>\n      <th>5</th>\n      <td>Abbotsford</td>\n      <td>40 Federation La</td>\n      <td>3</td>\n      <td>h</td>\n      <td>850000.0</td>\n      <td>PI</td>\n      <td>Biggin</td>\n      <td>2017-03-04</td>\n      <td>2.5</td>\n      <td>3067</td>\n      <td>3</td>\n      <td>2</td>\n      <td>1</td>\n      <td>Yarra City Council</td>\n      <td>-37.7969</td>\n      <td>144.9969</td>\n      <td>Northern Metropolitan</td>\n      <td>4019</td>\n    </tr>\n    <tr>\n      <th>6</th>\n      <td>Abbotsford</td>\n      <td>55a Park St</td>\n      <td>4</td>\n      <td>h</td>\n      <td>1600000.0</td>\n      <td>VB</td>\n      <td>Nelson</td>\n      <td>2016-06-04</td>\n      <td>2.5</td>\n      <td>3067</td>\n      <td>3</td>\n      <td>1</td>\n      <td>2</td>\n      <td>Yarra City Council</td>\n      <td>-37.8072</td>\n      <td>144.9941</td>\n      <td>Northern Metropolitan</td>\n      <td>4019</td>\n    </tr>\n    <tr>\n      <th>7</th>\n      <td>Abbotsford</td>\n      <td>16 Maugie St</td>\n      <td>4</td>\n      <td>h</td>\n      <td>600000.0</td>\n      <td>SN</td>\n      <td>Nelson</td>\n      <td>2016-08-06</td>\n      <td>2.5</td>\n      <td>3067</td>\n      <td>3</td>\n      <td>2</td>\n      <td>2</td>\n      <td>Yarra City Council</td>\n      <td>-37.7965</td>\n      <td>144.9965</td>\n      <td>Northern Metropolitan</td>\n      <td>4019</td>\n    </tr>\n    <tr>\n      <th>8</th>\n      <td>Abbotsford</td>\n      <td>53 Turner St</td>\n      <td>2</td>\n      <td>h</td>\n      <td>600000.0</td>\n      <td>S</td>\n      <td>Biggin</td>\n      <td>2016-08-06</td>\n      <td>2.5</td>\n      <td>3067</td>\n      <td>4</td>\n      <td>1</td>\n      <td>2</td>\n      <td>Yarra City Council</td>\n      <td>-37.7995</td>\n      <td>144.9974</td>\n      <td>Northern Metropolitan</td>\n      <td>4019</td>\n    </tr>\n    <tr>\n      <th>9</th>\n      <td>Abbotsford</td>\n      <td>99 Turner St</td>\n      <td>2</td>\n      <td>h</td>\n      <td>600000.0</td>\n      <td>S</td>\n      <td>Collins</td>\n      <td>2016-08-06</td>\n      <td>2.5</td>\n      <td>3067</td>\n      <td>3</td>\n      <td>2</td>\n      <td>1</td>\n      <td>Yarra City Council</td>\n      <td>-37.7996</td>\n      <td>144.9989</td>\n      <td>Northern Metropolitan</td>\n      <td>4019</td>\n    </tr>\n    <tr>\n      <th>10</th>\n      <td>Abbotsford</td>\n      <td>129 Charles St</td>\n      <td>2</td>\n      <td>h</td>\n      <td>941000.0</td>\n      <td>S</td>\n      <td>Jellis</td>\n      <td>2016-05-07</td>\n      <td>2.5</td>\n      <td>3067</td>\n      <td>2</td>\n      <td>1</td>\n      <td>0</td>\n      <td>Yarra City Council</td>\n      <td>-37.8041</td>\n      <td>144.9953</td>\n      <td>Northern Metropolitan</td>\n      <td>4019</td>\n    </tr>\n    <tr>\n      <th>11</th>\n      <td>Abbotsford</td>\n      <td>124 Yarra St</td>\n      <td>3</td>\n      <td>h</td>\n      <td>1876000.0</td>\n      <td>S</td>\n      <td>Nelson</td>\n      <td>2016-05-07</td>\n      <td>2.5</td>\n      <td>3067</td>\n      <td>4</td>\n      <td>2</td>\n      <td>0</td>\n      <td>Yarra City Council</td>\n      <td>-37.8024</td>\n      <td>144.9993</td>\n      <td>Northern Metropolitan</td>\n      <td>4019</td>\n    </tr>\n    <tr>\n      <th>12</th>\n      <td>Abbotsford</td>\n      <td>121/56 Nicholson St</td>\n      <td>2</td>\n      <td>u</td>\n      <td>600000.0</td>\n      <td>PI</td>\n      <td>Biggin</td>\n      <td>2016-11-07</td>\n      <td>2.5</td>\n      <td>3067</td>\n      <td>2</td>\n      <td>2</td>\n      <td>1</td>\n      <td>Yarra City Council</td>\n      <td>-37.8078</td>\n      <td>144.9965</td>\n      <td>Northern Metropolitan</td>\n      <td>4019</td>\n    </tr>\n    <tr>\n      <th>13</th>\n      <td>Abbotsford</td>\n      <td>17 Raphael St</td>\n      <td>4</td>\n      <td>h</td>\n      <td>600000.0</td>\n      <td>W</td>\n      <td>Biggin</td>\n      <td>2016-11-07</td>\n      <td>2.5</td>\n      <td>3067</td>\n      <td>6</td>\n      <td>2</td>\n      <td>0</td>\n      <td>Yarra City Council</td>\n      <td>-37.8066</td>\n      <td>144.9936</td>\n      <td>Northern Metropolitan</td>\n      <td>4019</td>\n    </tr>\n    <tr>\n      <th>14</th>\n      <td>Abbotsford</td>\n      <td>98 Charles St</td>\n      <td>2</td>\n      <td>h</td>\n      <td>1636000.0</td>\n      <td>S</td>\n      <td>Nelson</td>\n      <td>2016-10-08</td>\n      <td>2.5</td>\n      <td>3067</td>\n      <td>2</td>\n      <td>1</td>\n      <td>2</td>\n      <td>Yarra City Council</td>\n      <td>-37.8060</td>\n      <td>144.9954</td>\n      <td>Northern Metropolitan</td>\n      <td>4019</td>\n    </tr>\n    <tr>\n      <th>15</th>\n      <td>Abbotsford</td>\n      <td>217 Langridge St</td>\n      <td>3</td>\n      <td>h</td>\n      <td>1000000.0</td>\n      <td>S</td>\n      <td>Jellis</td>\n      <td>2016-10-08</td>\n      <td>2.5</td>\n      <td>3067</td>\n      <td>3</td>\n      <td>2</td>\n      <td>2</td>\n      <td>Yarra City Council</td>\n      <td>-37.8361</td>\n      <td>144.9966</td>\n      <td>Northern Metropolitan</td>\n      <td>4019</td>\n    </tr>\n    <tr>\n      <th>16</th>\n      <td>Abbotsford</td>\n      <td>18a Mollison St</td>\n      <td>2</td>\n      <td>t</td>\n      <td>745000.0</td>\n      <td>S</td>\n      <td>Jellis</td>\n      <td>2016-10-08</td>\n      <td>2.5</td>\n      <td>3067</td>\n      <td>3</td>\n      <td>2</td>\n      <td>2</td>\n      <td>Yarra City Council</td>\n      <td>-37.8361</td>\n      <td>144.9966</td>\n      <td>Northern Metropolitan</td>\n      <td>4019</td>\n    </tr>\n    <tr>\n      <th>17</th>\n      <td>Abbotsford</td>\n      <td>6/241 Nicholson St</td>\n      <td>1</td>\n      <td>u</td>\n      <td>300000.0</td>\n      <td>S</td>\n      <td>Biggin</td>\n      <td>2016-10-08</td>\n      <td>2.5</td>\n      <td>3067</td>\n      <td>1</td>\n      <td>1</td>\n      <td>1</td>\n      <td>Yarra City Council</td>\n      <td>-37.8008</td>\n      <td>144.9973</td>\n      <td>Northern Metropolitan</td>\n      <td>4019</td>\n    </tr>\n    <tr>\n      <th>18</th>\n      <td>Abbotsford</td>\n      <td>10 Valiant St</td>\n      <td>2</td>\n      <td>h</td>\n      <td>1097000.0</td>\n      <td>S</td>\n      <td>Biggin</td>\n      <td>2016-10-08</td>\n      <td>2.5</td>\n      <td>3067</td>\n      <td>3</td>\n      <td>1</td>\n      <td>2</td>\n      <td>Yarra City Council</td>\n      <td>-37.8010</td>\n      <td>144.9989</td>\n      <td>Northern Metropolitan</td>\n      <td>4019</td>\n    </tr>\n    <tr>\n      <th>19</th>\n      <td>Abbotsford</td>\n      <td>403/609 Victoria St</td>\n      <td>2</td>\n      <td>u</td>\n      <td>542000.0</td>\n      <td>S</td>\n      <td>Dingle</td>\n      <td>2016-10-08</td>\n      <td>2.5</td>\n      <td>3067</td>\n      <td>3</td>\n      <td>2</td>\n      <td>2</td>\n      <td>Yarra City Council</td>\n      <td>-37.8361</td>\n      <td>144.9966</td>\n      <td>Northern Metropolitan</td>\n      <td>4019</td>\n    </tr>\n  </tbody>\n</table>\n</div>"
     },
     "execution_count": 15,
     "metadata": {},
     "output_type": "execute_result"
    }
   ],
   "source": [
    "data_completed = data_completed.astype({'Bedroom' : 'int64', 'Bathroom' : 'int64', 'Car' : 'int64', 'Postcode' : 'int64', 'Propertycount' : 'int64'})\n",
    "data_completed['Date'] = pd.to_datetime(data_completed['Date'], dayfirst=True)\n",
    "data_completed.head(20)"
   ]
  },
  {
   "cell_type": "markdown",
   "source": [
    "\n",
    "### Кодирование категориальных признаков\n",
    "\n",
    "Импортируем необходимые инструменты:"
   ],
   "metadata": {
    "collapsed": false,
    "pycharm": {
     "name": "#%% md\n"
    }
   }
  },
  {
   "cell_type": "code",
   "execution_count": 16,
   "outputs": [],
   "source": [
    "from sklearn.preprocessing import LabelEncoder, OneHotEncoder"
   ],
   "metadata": {
    "collapsed": false,
    "pycharm": {
     "name": "#%%\n"
    }
   }
  },
  {
   "cell_type": "markdown",
   "source": [
    "Закодируем признак Method целочисленными значениями (label encoding):"
   ],
   "metadata": {
    "collapsed": false
   }
  },
  {
   "cell_type": "code",
   "execution_count": 17,
   "outputs": [],
   "source": [
    "lbl_enc = LabelEncoder()\n",
    "method_lbl_encoded = lbl_enc.fit_transform(data_completed['Method'])"
   ],
   "metadata": {
    "collapsed": false,
    "pycharm": {
     "name": "#%%\n"
    }
   }
  },
  {
   "cell_type": "code",
   "execution_count": 18,
   "outputs": [
    {
     "data": {
      "text/plain": "array(['SS', 'S', 'VB', 'SP', 'PI', 'SN', 'W', 'PN', 'SA'], dtype=object)"
     },
     "execution_count": 18,
     "metadata": {},
     "output_type": "execute_result"
    }
   ],
   "source": [
    "# Уникальные значения столбца Method\n",
    "data_completed['Method'].unique()"
   ],
   "metadata": {
    "collapsed": false,
    "pycharm": {
     "name": "#%%\n"
    }
   }
  },
  {
   "cell_type": "code",
   "execution_count": 19,
   "outputs": [
    {
     "data": {
      "text/plain": "array([0, 1, 2, 3, 4, 5, 6, 7, 8])"
     },
     "execution_count": 19,
     "metadata": {},
     "output_type": "execute_result"
    }
   ],
   "source": [
    "# Уникальные значения в закодированном виде\n",
    "np.unique(method_lbl_encoded)"
   ],
   "metadata": {
    "collapsed": false,
    "pycharm": {
     "name": "#%%\n"
    }
   }
  },
  {
   "cell_type": "code",
   "execution_count": 20,
   "outputs": [
    {
     "data": {
      "text/plain": "array(['PI', 'PN', 'S', 'SA', 'SN', 'SP', 'SS', 'VB', 'W'], dtype=object)"
     },
     "execution_count": 20,
     "metadata": {},
     "output_type": "execute_result"
    }
   ],
   "source": [
    "# Обратная трансформация\n",
    "lbl_enc.inverse_transform(np.unique(method_lbl_encoded))"
   ],
   "metadata": {
    "collapsed": false,
    "pycharm": {
     "name": "#%%\n"
    }
   }
  },
  {
   "cell_type": "code",
   "execution_count": 21,
   "outputs": [
    {
     "data": {
      "text/plain": "       Suburb             Address  Rooms Type      Price  Method SellerG  \\\n0  Abbotsford       68 Studley St      2    h   600000.0       6  Jellis   \n1  Abbotsford        85 Turner St      2    h  1480000.0       2  Biggin   \n2  Abbotsford     25 Bloomburg St      2    h  1035000.0       2  Biggin   \n3  Abbotsford  18/659 Victoria St      3    u   600000.0       7  Rounds   \n4  Abbotsford        5 Charles St      3    h  1465000.0       5  Biggin   \n\n        Date  Distance  Postcode  Bedroom  Bathroom  Car         CouncilArea  \\\n0 2016-09-03       2.5      3067        2         1    1  Yarra City Council   \n1 2016-12-03       2.5      3067        2         1    1  Yarra City Council   \n2 2016-02-04       2.5      3067        2         1    0  Yarra City Council   \n3 2016-02-04       2.5      3067        3         2    1  Yarra City Council   \n4 2017-03-04       2.5      3067        3         2    0  Yarra City Council   \n\n   Lattitude  Longtitude             Regionname  Propertycount  \n0   -37.8014    144.9958  Northern Metropolitan           4019  \n1   -37.7996    144.9984  Northern Metropolitan           4019  \n2   -37.8079    144.9934  Northern Metropolitan           4019  \n3   -37.8114    145.0116  Northern Metropolitan           4019  \n4   -37.8093    144.9944  Northern Metropolitan           4019  ",
      "text/html": "<div>\n<style scoped>\n    .dataframe tbody tr th:only-of-type {\n        vertical-align: middle;\n    }\n\n    .dataframe tbody tr th {\n        vertical-align: top;\n    }\n\n    .dataframe thead th {\n        text-align: right;\n    }\n</style>\n<table border=\"1\" class=\"dataframe\">\n  <thead>\n    <tr style=\"text-align: right;\">\n      <th></th>\n      <th>Suburb</th>\n      <th>Address</th>\n      <th>Rooms</th>\n      <th>Type</th>\n      <th>Price</th>\n      <th>Method</th>\n      <th>SellerG</th>\n      <th>Date</th>\n      <th>Distance</th>\n      <th>Postcode</th>\n      <th>Bedroom</th>\n      <th>Bathroom</th>\n      <th>Car</th>\n      <th>CouncilArea</th>\n      <th>Lattitude</th>\n      <th>Longtitude</th>\n      <th>Regionname</th>\n      <th>Propertycount</th>\n    </tr>\n  </thead>\n  <tbody>\n    <tr>\n      <th>0</th>\n      <td>Abbotsford</td>\n      <td>68 Studley St</td>\n      <td>2</td>\n      <td>h</td>\n      <td>600000.0</td>\n      <td>6</td>\n      <td>Jellis</td>\n      <td>2016-09-03</td>\n      <td>2.5</td>\n      <td>3067</td>\n      <td>2</td>\n      <td>1</td>\n      <td>1</td>\n      <td>Yarra City Council</td>\n      <td>-37.8014</td>\n      <td>144.9958</td>\n      <td>Northern Metropolitan</td>\n      <td>4019</td>\n    </tr>\n    <tr>\n      <th>1</th>\n      <td>Abbotsford</td>\n      <td>85 Turner St</td>\n      <td>2</td>\n      <td>h</td>\n      <td>1480000.0</td>\n      <td>2</td>\n      <td>Biggin</td>\n      <td>2016-12-03</td>\n      <td>2.5</td>\n      <td>3067</td>\n      <td>2</td>\n      <td>1</td>\n      <td>1</td>\n      <td>Yarra City Council</td>\n      <td>-37.7996</td>\n      <td>144.9984</td>\n      <td>Northern Metropolitan</td>\n      <td>4019</td>\n    </tr>\n    <tr>\n      <th>2</th>\n      <td>Abbotsford</td>\n      <td>25 Bloomburg St</td>\n      <td>2</td>\n      <td>h</td>\n      <td>1035000.0</td>\n      <td>2</td>\n      <td>Biggin</td>\n      <td>2016-02-04</td>\n      <td>2.5</td>\n      <td>3067</td>\n      <td>2</td>\n      <td>1</td>\n      <td>0</td>\n      <td>Yarra City Council</td>\n      <td>-37.8079</td>\n      <td>144.9934</td>\n      <td>Northern Metropolitan</td>\n      <td>4019</td>\n    </tr>\n    <tr>\n      <th>3</th>\n      <td>Abbotsford</td>\n      <td>18/659 Victoria St</td>\n      <td>3</td>\n      <td>u</td>\n      <td>600000.0</td>\n      <td>7</td>\n      <td>Rounds</td>\n      <td>2016-02-04</td>\n      <td>2.5</td>\n      <td>3067</td>\n      <td>3</td>\n      <td>2</td>\n      <td>1</td>\n      <td>Yarra City Council</td>\n      <td>-37.8114</td>\n      <td>145.0116</td>\n      <td>Northern Metropolitan</td>\n      <td>4019</td>\n    </tr>\n    <tr>\n      <th>4</th>\n      <td>Abbotsford</td>\n      <td>5 Charles St</td>\n      <td>3</td>\n      <td>h</td>\n      <td>1465000.0</td>\n      <td>5</td>\n      <td>Biggin</td>\n      <td>2017-03-04</td>\n      <td>2.5</td>\n      <td>3067</td>\n      <td>3</td>\n      <td>2</td>\n      <td>0</td>\n      <td>Yarra City Council</td>\n      <td>-37.8093</td>\n      <td>144.9944</td>\n      <td>Northern Metropolitan</td>\n      <td>4019</td>\n    </tr>\n  </tbody>\n</table>\n</div>"
     },
     "execution_count": 21,
     "metadata": {},
     "output_type": "execute_result"
    }
   ],
   "source": [
    "# Кодировка столбца\n",
    "# Копируем датасет, так как при data_lbl_encoded = data_completed label encoding кодирует и оригинальный dataframe\n",
    "data_lbl_encoded = data_completed.copy()\n",
    "data_lbl_encoded['Method'] = method_lbl_encoded\n",
    "\n",
    "data_lbl_encoded.head()"
   ],
   "metadata": {
    "collapsed": false,
    "pycharm": {
     "name": "#%%\n"
    }
   }
  },
  {
   "cell_type": "markdown",
   "source": [
    "Теперь закодируем признак Type наборами бинарных значений (one-hot encoding):"
   ],
   "metadata": {
    "collapsed": false
   }
  },
  {
   "cell_type": "code",
   "execution_count": 22,
   "outputs": [],
   "source": [
    "oh_enc = OneHotEncoder(dtype=np.int64)\n",
    "type_oh_encoded = oh_enc.fit_transform(data_lbl_encoded[['Type']])"
   ],
   "metadata": {
    "collapsed": false,
    "pycharm": {
     "name": "#%%\n"
    }
   }
  },
  {
   "cell_type": "code",
   "execution_count": 23,
   "outputs": [
    {
     "data": {
      "text/plain": "scipy.sparse._csr.csr_matrix"
     },
     "execution_count": 23,
     "metadata": {},
     "output_type": "execute_result"
    }
   ],
   "source": [
    "# Тип закодированных данных\n",
    "type(type_oh_encoded)"
   ],
   "metadata": {
    "collapsed": false,
    "pycharm": {
     "name": "#%%\n"
    }
   }
  },
  {
   "cell_type": "code",
   "execution_count": 24,
   "outputs": [
    {
     "data": {
      "text/plain": "(34854, 3)"
     },
     "execution_count": 24,
     "metadata": {},
     "output_type": "execute_result"
    }
   ],
   "source": [
    "# Размерность закодированного признака\n",
    "type_oh_encoded.shape"
   ],
   "metadata": {
    "collapsed": false,
    "pycharm": {
     "name": "#%%\n"
    }
   }
  },
  {
   "cell_type": "code",
   "execution_count": 25,
   "outputs": [
    {
     "data": {
      "text/plain": "array(['Type_h', 'Type_t', 'Type_u'], dtype=object)"
     },
     "execution_count": 25,
     "metadata": {},
     "output_type": "execute_result"
    }
   ],
   "source": [
    "# Новые названия признаков\n",
    "oh_enc.get_feature_names_out(['Type'])"
   ],
   "metadata": {
    "collapsed": false,
    "pycharm": {
     "name": "#%%\n"
    }
   }
  },
  {
   "cell_type": "code",
   "execution_count": 26,
   "outputs": [
    {
     "data": {
      "text/plain": "   Type_h  Type_t  Type_u\n0       1       0       0\n1       1       0       0\n2       1       0       0\n3       0       0       1\n4       1       0       0",
      "text/html": "<div>\n<style scoped>\n    .dataframe tbody tr th:only-of-type {\n        vertical-align: middle;\n    }\n\n    .dataframe tbody tr th {\n        vertical-align: top;\n    }\n\n    .dataframe thead th {\n        text-align: right;\n    }\n</style>\n<table border=\"1\" class=\"dataframe\">\n  <thead>\n    <tr style=\"text-align: right;\">\n      <th></th>\n      <th>Type_h</th>\n      <th>Type_t</th>\n      <th>Type_u</th>\n    </tr>\n  </thead>\n  <tbody>\n    <tr>\n      <th>0</th>\n      <td>1</td>\n      <td>0</td>\n      <td>0</td>\n    </tr>\n    <tr>\n      <th>1</th>\n      <td>1</td>\n      <td>0</td>\n      <td>0</td>\n    </tr>\n    <tr>\n      <th>2</th>\n      <td>1</td>\n      <td>0</td>\n      <td>0</td>\n    </tr>\n    <tr>\n      <th>3</th>\n      <td>0</td>\n      <td>0</td>\n      <td>1</td>\n    </tr>\n    <tr>\n      <th>4</th>\n      <td>1</td>\n      <td>0</td>\n      <td>0</td>\n    </tr>\n  </tbody>\n</table>\n</div>"
     },
     "execution_count": 26,
     "metadata": {},
     "output_type": "execute_result"
    }
   ],
   "source": [
    "# Датафрейм закодированного признака\n",
    "data_ohe_encoded: pd.DataFrame = pd.DataFrame.sparse.from_spmatrix(type_oh_encoded, columns=oh_enc.get_feature_names_out(['Type']))\n",
    "data_ohe_encoded.head()"
   ],
   "metadata": {
    "collapsed": false,
    "pycharm": {
     "name": "#%%\n"
    }
   }
  },
  {
   "cell_type": "markdown",
   "source": [
    "Прежде чем соединять датафреймы, проверим размерность исходного:"
   ],
   "metadata": {
    "collapsed": false
   }
  },
  {
   "cell_type": "code",
   "execution_count": 27,
   "outputs": [
    {
     "data": {
      "text/plain": "(34854, 18)"
     },
     "execution_count": 27,
     "metadata": {},
     "output_type": "execute_result"
    }
   ],
   "source": [
    "# Размерность исходного датафрейма\n",
    "data_lbl_encoded.shape"
   ],
   "metadata": {
    "collapsed": false,
    "pycharm": {
     "name": "#%%\n"
    }
   }
  },
  {
   "cell_type": "code",
   "execution_count": 28,
   "outputs": [
    {
     "data": {
      "text/plain": "       Suburb             Address  Rooms      Price  Method SellerG  \\\n0  Abbotsford       68 Studley St      2   600000.0       6  Jellis   \n1  Abbotsford        85 Turner St      2  1480000.0       2  Biggin   \n2  Abbotsford     25 Bloomburg St      2  1035000.0       2  Biggin   \n3  Abbotsford  18/659 Victoria St      3   600000.0       7  Rounds   \n4  Abbotsford        5 Charles St      3  1465000.0       5  Biggin   \n\n        Date  Distance  Postcode  Bedroom  Bathroom  Car         CouncilArea  \\\n0 2016-09-03       2.5      3067        2         1    1  Yarra City Council   \n1 2016-12-03       2.5      3067        2         1    1  Yarra City Council   \n2 2016-02-04       2.5      3067        2         1    0  Yarra City Council   \n3 2016-02-04       2.5      3067        3         2    1  Yarra City Council   \n4 2017-03-04       2.5      3067        3         2    0  Yarra City Council   \n\n   Lattitude  Longtitude             Regionname  Propertycount  Type_h  \\\n0   -37.8014    144.9958  Northern Metropolitan           4019       1   \n1   -37.7996    144.9984  Northern Metropolitan           4019       1   \n2   -37.8079    144.9934  Northern Metropolitan           4019       1   \n3   -37.8114    145.0116  Northern Metropolitan           4019       0   \n4   -37.8093    144.9944  Northern Metropolitan           4019       1   \n\n   Type_t  Type_u  \n0       0       0  \n1       0       0  \n2       0       0  \n3       0       1  \n4       0       0  ",
      "text/html": "<div>\n<style scoped>\n    .dataframe tbody tr th:only-of-type {\n        vertical-align: middle;\n    }\n\n    .dataframe tbody tr th {\n        vertical-align: top;\n    }\n\n    .dataframe thead th {\n        text-align: right;\n    }\n</style>\n<table border=\"1\" class=\"dataframe\">\n  <thead>\n    <tr style=\"text-align: right;\">\n      <th></th>\n      <th>Suburb</th>\n      <th>Address</th>\n      <th>Rooms</th>\n      <th>Price</th>\n      <th>Method</th>\n      <th>SellerG</th>\n      <th>Date</th>\n      <th>Distance</th>\n      <th>Postcode</th>\n      <th>Bedroom</th>\n      <th>Bathroom</th>\n      <th>Car</th>\n      <th>CouncilArea</th>\n      <th>Lattitude</th>\n      <th>Longtitude</th>\n      <th>Regionname</th>\n      <th>Propertycount</th>\n      <th>Type_h</th>\n      <th>Type_t</th>\n      <th>Type_u</th>\n    </tr>\n  </thead>\n  <tbody>\n    <tr>\n      <th>0</th>\n      <td>Abbotsford</td>\n      <td>68 Studley St</td>\n      <td>2</td>\n      <td>600000.0</td>\n      <td>6</td>\n      <td>Jellis</td>\n      <td>2016-09-03</td>\n      <td>2.5</td>\n      <td>3067</td>\n      <td>2</td>\n      <td>1</td>\n      <td>1</td>\n      <td>Yarra City Council</td>\n      <td>-37.8014</td>\n      <td>144.9958</td>\n      <td>Northern Metropolitan</td>\n      <td>4019</td>\n      <td>1</td>\n      <td>0</td>\n      <td>0</td>\n    </tr>\n    <tr>\n      <th>1</th>\n      <td>Abbotsford</td>\n      <td>85 Turner St</td>\n      <td>2</td>\n      <td>1480000.0</td>\n      <td>2</td>\n      <td>Biggin</td>\n      <td>2016-12-03</td>\n      <td>2.5</td>\n      <td>3067</td>\n      <td>2</td>\n      <td>1</td>\n      <td>1</td>\n      <td>Yarra City Council</td>\n      <td>-37.7996</td>\n      <td>144.9984</td>\n      <td>Northern Metropolitan</td>\n      <td>4019</td>\n      <td>1</td>\n      <td>0</td>\n      <td>0</td>\n    </tr>\n    <tr>\n      <th>2</th>\n      <td>Abbotsford</td>\n      <td>25 Bloomburg St</td>\n      <td>2</td>\n      <td>1035000.0</td>\n      <td>2</td>\n      <td>Biggin</td>\n      <td>2016-02-04</td>\n      <td>2.5</td>\n      <td>3067</td>\n      <td>2</td>\n      <td>1</td>\n      <td>0</td>\n      <td>Yarra City Council</td>\n      <td>-37.8079</td>\n      <td>144.9934</td>\n      <td>Northern Metropolitan</td>\n      <td>4019</td>\n      <td>1</td>\n      <td>0</td>\n      <td>0</td>\n    </tr>\n    <tr>\n      <th>3</th>\n      <td>Abbotsford</td>\n      <td>18/659 Victoria St</td>\n      <td>3</td>\n      <td>600000.0</td>\n      <td>7</td>\n      <td>Rounds</td>\n      <td>2016-02-04</td>\n      <td>2.5</td>\n      <td>3067</td>\n      <td>3</td>\n      <td>2</td>\n      <td>1</td>\n      <td>Yarra City Council</td>\n      <td>-37.8114</td>\n      <td>145.0116</td>\n      <td>Northern Metropolitan</td>\n      <td>4019</td>\n      <td>0</td>\n      <td>0</td>\n      <td>1</td>\n    </tr>\n    <tr>\n      <th>4</th>\n      <td>Abbotsford</td>\n      <td>5 Charles St</td>\n      <td>3</td>\n      <td>1465000.0</td>\n      <td>5</td>\n      <td>Biggin</td>\n      <td>2017-03-04</td>\n      <td>2.5</td>\n      <td>3067</td>\n      <td>3</td>\n      <td>2</td>\n      <td>0</td>\n      <td>Yarra City Council</td>\n      <td>-37.8093</td>\n      <td>144.9944</td>\n      <td>Northern Metropolitan</td>\n      <td>4019</td>\n      <td>1</td>\n      <td>0</td>\n      <td>0</td>\n    </tr>\n  </tbody>\n</table>\n</div>"
     },
     "execution_count": 28,
     "metadata": {},
     "output_type": "execute_result"
    }
   ],
   "source": [
    "# Cоединение датафреймов\n",
    "data_encoded = data_lbl_encoded.copy()\n",
    "data_encoded = data_encoded.drop(columns='Type')\n",
    "data_encoded = pd.concat([data_encoded.reset_index(drop=True), data_ohe_encoded], axis=1)\n",
    "\n",
    "data_encoded.head()"
   ],
   "metadata": {
    "collapsed": false,
    "pycharm": {
     "name": "#%%\n"
    }
   }
  },
  {
   "cell_type": "markdown",
   "source": [
    "Повторим кодирование признака Type, но в этот раз с помощью метода get_dummies() из библиотеки Pandas:"
   ],
   "metadata": {
    "collapsed": false
   }
  },
  {
   "cell_type": "code",
   "execution_count": 29,
   "outputs": [
    {
     "data": {
      "text/plain": "       Suburb             Address  Rooms      Price  Method SellerG  \\\n0  Abbotsford       68 Studley St      2   600000.0       6  Jellis   \n1  Abbotsford        85 Turner St      2  1480000.0       2  Biggin   \n2  Abbotsford     25 Bloomburg St      2  1035000.0       2  Biggin   \n3  Abbotsford  18/659 Victoria St      3   600000.0       7  Rounds   \n4  Abbotsford        5 Charles St      3  1465000.0       5  Biggin   \n\n        Date  Distance  Postcode  Bedroom  Bathroom  Car         CouncilArea  \\\n0 2016-09-03       2.5      3067        2         1    1  Yarra City Council   \n1 2016-12-03       2.5      3067        2         1    1  Yarra City Council   \n2 2016-02-04       2.5      3067        2         1    0  Yarra City Council   \n3 2016-02-04       2.5      3067        3         2    1  Yarra City Council   \n4 2017-03-04       2.5      3067        3         2    0  Yarra City Council   \n\n   Lattitude  Longtitude             Regionname  Propertycount  Type_h  \\\n0   -37.8014    144.9958  Northern Metropolitan           4019       1   \n1   -37.7996    144.9984  Northern Metropolitan           4019       1   \n2   -37.8079    144.9934  Northern Metropolitan           4019       1   \n3   -37.8114    145.0116  Northern Metropolitan           4019       0   \n4   -37.8093    144.9944  Northern Metropolitan           4019       1   \n\n   Type_t  Type_u  \n0       0       0  \n1       0       0  \n2       0       0  \n3       0       1  \n4       0       0  ",
      "text/html": "<div>\n<style scoped>\n    .dataframe tbody tr th:only-of-type {\n        vertical-align: middle;\n    }\n\n    .dataframe tbody tr th {\n        vertical-align: top;\n    }\n\n    .dataframe thead th {\n        text-align: right;\n    }\n</style>\n<table border=\"1\" class=\"dataframe\">\n  <thead>\n    <tr style=\"text-align: right;\">\n      <th></th>\n      <th>Suburb</th>\n      <th>Address</th>\n      <th>Rooms</th>\n      <th>Price</th>\n      <th>Method</th>\n      <th>SellerG</th>\n      <th>Date</th>\n      <th>Distance</th>\n      <th>Postcode</th>\n      <th>Bedroom</th>\n      <th>Bathroom</th>\n      <th>Car</th>\n      <th>CouncilArea</th>\n      <th>Lattitude</th>\n      <th>Longtitude</th>\n      <th>Regionname</th>\n      <th>Propertycount</th>\n      <th>Type_h</th>\n      <th>Type_t</th>\n      <th>Type_u</th>\n    </tr>\n  </thead>\n  <tbody>\n    <tr>\n      <th>0</th>\n      <td>Abbotsford</td>\n      <td>68 Studley St</td>\n      <td>2</td>\n      <td>600000.0</td>\n      <td>6</td>\n      <td>Jellis</td>\n      <td>2016-09-03</td>\n      <td>2.5</td>\n      <td>3067</td>\n      <td>2</td>\n      <td>1</td>\n      <td>1</td>\n      <td>Yarra City Council</td>\n      <td>-37.8014</td>\n      <td>144.9958</td>\n      <td>Northern Metropolitan</td>\n      <td>4019</td>\n      <td>1</td>\n      <td>0</td>\n      <td>0</td>\n    </tr>\n    <tr>\n      <th>1</th>\n      <td>Abbotsford</td>\n      <td>85 Turner St</td>\n      <td>2</td>\n      <td>1480000.0</td>\n      <td>2</td>\n      <td>Biggin</td>\n      <td>2016-12-03</td>\n      <td>2.5</td>\n      <td>3067</td>\n      <td>2</td>\n      <td>1</td>\n      <td>1</td>\n      <td>Yarra City Council</td>\n      <td>-37.7996</td>\n      <td>144.9984</td>\n      <td>Northern Metropolitan</td>\n      <td>4019</td>\n      <td>1</td>\n      <td>0</td>\n      <td>0</td>\n    </tr>\n    <tr>\n      <th>2</th>\n      <td>Abbotsford</td>\n      <td>25 Bloomburg St</td>\n      <td>2</td>\n      <td>1035000.0</td>\n      <td>2</td>\n      <td>Biggin</td>\n      <td>2016-02-04</td>\n      <td>2.5</td>\n      <td>3067</td>\n      <td>2</td>\n      <td>1</td>\n      <td>0</td>\n      <td>Yarra City Council</td>\n      <td>-37.8079</td>\n      <td>144.9934</td>\n      <td>Northern Metropolitan</td>\n      <td>4019</td>\n      <td>1</td>\n      <td>0</td>\n      <td>0</td>\n    </tr>\n    <tr>\n      <th>3</th>\n      <td>Abbotsford</td>\n      <td>18/659 Victoria St</td>\n      <td>3</td>\n      <td>600000.0</td>\n      <td>7</td>\n      <td>Rounds</td>\n      <td>2016-02-04</td>\n      <td>2.5</td>\n      <td>3067</td>\n      <td>3</td>\n      <td>2</td>\n      <td>1</td>\n      <td>Yarra City Council</td>\n      <td>-37.8114</td>\n      <td>145.0116</td>\n      <td>Northern Metropolitan</td>\n      <td>4019</td>\n      <td>0</td>\n      <td>0</td>\n      <td>1</td>\n    </tr>\n    <tr>\n      <th>4</th>\n      <td>Abbotsford</td>\n      <td>5 Charles St</td>\n      <td>3</td>\n      <td>1465000.0</td>\n      <td>5</td>\n      <td>Biggin</td>\n      <td>2017-03-04</td>\n      <td>2.5</td>\n      <td>3067</td>\n      <td>3</td>\n      <td>2</td>\n      <td>0</td>\n      <td>Yarra City Council</td>\n      <td>-37.8093</td>\n      <td>144.9944</td>\n      <td>Northern Metropolitan</td>\n      <td>4019</td>\n      <td>1</td>\n      <td>0</td>\n      <td>0</td>\n    </tr>\n  </tbody>\n</table>\n</div>"
     },
     "execution_count": 29,
     "metadata": {},
     "output_type": "execute_result"
    }
   ],
   "source": [
    "data_encoded_dummies = pd.get_dummies(data_lbl_encoded, columns=['Type'])\n",
    "data_encoded_dummies.head()"
   ],
   "metadata": {
    "collapsed": false,
    "pycharm": {
     "name": "#%%\n"
    }
   }
  },
  {
   "cell_type": "markdown",
   "source": [
    "Как мы видим, с помощью метода get_dummies проще кодировать категории наборами бинарных значений (one-hot encoding)"
   ],
   "metadata": {
    "collapsed": false
   }
  },
  {
   "cell_type": "markdown",
   "source": [
    "\n",
    "### Масштабирование данных\n",
    "\n",
    "Импортируем необходимые инструменты:"
   ],
   "metadata": {
    "collapsed": false
   }
  },
  {
   "cell_type": "code",
   "execution_count": 30,
   "outputs": [],
   "source": [
    "from sklearn.preprocessing import MinMaxScaler, StandardScaler"
   ],
   "metadata": {
    "collapsed": false,
    "pycharm": {
     "name": "#%%\n"
    }
   }
  },
  {
   "cell_type": "markdown",
   "source": [
    "Для масштабирования используем признак Distance."
   ],
   "metadata": {
    "collapsed": false
   }
  },
  {
   "cell_type": "code",
   "execution_count": 31,
   "outputs": [
    {
     "data": {
      "text/plain": "<Figure size 432x288 with 1 Axes>",
      "image/png": "[encoded data removed]"
     },
     "metadata": {},
     "output_type": "display_data"
    }
   ],
   "source": [
    "sns.histplot(data['Distance'], bins= 75)\n",
    "sns.despine()\n",
    "plt.show()"
   ],
   "metadata": {
    "collapsed": false,
    "pycharm": {
     "name": "#%%\n"
    }
   }
  },
  {
   "cell_type": "markdown",
   "source": [
    "\n",
    "#### MinMax масштабирование"
   ],
   "metadata": {
    "collapsed": false
   }
  },
  {
   "cell_type": "code",
   "execution_count": 32,
   "outputs": [],
   "source": [
    "minmax_scaler = MinMaxScaler()\n",
    "minmax_scaled_data = minmax_scaler.fit_transform(data[['Distance']])"
   ],
   "metadata": {
    "collapsed": false,
    "pycharm": {
     "name": "#%%\n"
    }
   }
  },
  {
   "cell_type": "code",
   "execution_count": 33,
   "outputs": [
    {
     "data": {
      "text/plain": "<Figure size 432x288 with 1 Axes>",
      "image/png": "[encoded data removed]"
     },
     "metadata": {},
     "output_type": "display_data"
    }
   ],
   "source": [
    "# Отмасштабированная гистограмма\n",
    "sns.histplot(minmax_scaled_data, bins= 75, legend=False)\n",
    "sns.despine()\n",
    "plt.show()"
   ],
   "metadata": {
    "collapsed": false,
    "pycharm": {
     "name": "#%%\n"
    }
   }
  },
  {
   "cell_type": "markdown",
   "source": [
    "\n",
    "#### Масштабированние на основе Z-оценки"
   ],
   "metadata": {
    "collapsed": false
   }
  },
  {
   "cell_type": "code",
   "execution_count": 34,
   "outputs": [],
   "source": [
    "standard_scaler = StandardScaler()\n",
    "standard_scaled_data = standard_scaler.fit_transform(data[['Distance']])"
   ],
   "metadata": {
    "collapsed": false,
    "pycharm": {
     "name": "#%%\n"
    }
   }
  },
  {
   "cell_type": "code",
   "execution_count": 35,
   "outputs": [
    {
     "data": {
      "text/plain": "<Figure size 432x288 with 1 Axes>",
      "image/png": "[encoded data removed]"
     },
     "metadata": {},
     "output_type": "display_data"
    }
   ],
   "source": [
    "# Отмасштабированная гистограмма\n",
    "sns.histplot(standard_scaled_data, bins= 75, legend=False)\n",
    "sns.despine()\n",
    "plt.show()"
   ],
   "metadata": {
    "collapsed": false,
    "pycharm": {
     "name": "#%%\n"
    }
   }
  }
 ],
 "metadata": {
  "kernelspec": {
   "display_name": "Python 3 (ipykernel)",
   "language": "python",
   "name": "python3"
  },
  "language_info": {
   "codemirror_mode": {
    "name": "ipython",
    "version": 3
   },
   "file_extension": ".py",
   "mimetype": "text/x-python",
   "name": "python",
   "nbconvert_exporter": "python",
   "pygments_lexer": "ipython3",
   "version": "3.9.10"
  }
 },
 "nbformat": 4,
 "nbformat_minor": 1
}